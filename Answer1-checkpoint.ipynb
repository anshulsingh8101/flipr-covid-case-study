{
 "cells": [
  {
   "cell_type": "code",
   "execution_count": 1,
   "metadata": {},
   "outputs": [],
   "source": [
    "import numpy as np\n",
    "import pandas as pd\n",
    "import matplotlib.pyplot as plt\n"
   ]
  },
  {
   "cell_type": "code",
   "execution_count": 2,
   "metadata": {},
   "outputs": [],
   "source": [
    "dataset1 = pd.read_excel('Train_dataset.xlsx')\n",
    "dataset2 = pd.read_excel('Test_dataset.xlsx')\n",
    "x1 = dataset1.iloc[:, [0,1,11,14]].values\n",
    "y = dataset1.iloc[:, -1].values\n",
    "x2 = dataset2.iloc[:, [0,1,11,14]].values\n"
   ]
  },
  {
   "cell_type": "code",
   "execution_count": 3,
   "metadata": {},
   "outputs": [
    {
     "name": "stdout",
     "output_type": "stream",
     "text": [
      "Shape x1 is: (787, 4)\n",
      "Shape x2 is: (501, 4)\n",
      "Shape y is: (787,)\n"
     ]
    }
   ],
   "source": [
    "print('Shape x1 is: {}'.format(x1.shape))\n",
    "print('Shape x2 is: {}'.format(x2.shape))\n",
    "print('Shape y is: {}'.format(y.shape))"
   ]
  },
  {
   "cell_type": "code",
   "execution_count": 4,
   "metadata": {},
   "outputs": [
    {
     "name": "stdout",
     "output_type": "stream",
     "text": [
      "[['Tuensang' 'Nagaland' 0.25339010990797806 2769.0]\n",
      " ['Lakshmeshwar' 'Karnataka' 0.1925548935336575 636502.0]\n",
      " ['Zira' 'Punjab' 0.8878816363537942 242367.0]\n",
      " ...\n",
      " ['Kedarnath' 'Uttarakhand' 0.7232532805565187 105882.0]\n",
      " ['Gangotri' 'Uttarakhand' 0.42106070874521906 105882.0]\n",
      " ['Kumarganj' 'Uttar Pradesh' 0.15437496778628979 3104060.0]]\n"
     ]
    }
   ],
   "source": [
    "print(x2)"
   ]
  },
  {
   "cell_type": "code",
   "execution_count": 5,
   "metadata": {},
   "outputs": [
    {
     "name": "stdout",
     "output_type": "stream",
     "text": [
      "[['Mumbai' 'Maharashtra' 0.7004395374251806 4408916.0]\n",
      " ['Delhi' 'Delhi' 0.9200182321815967 2379169.0]\n",
      " ['Bangalore' 'Karnataka' 0.09708525131204238 636502.0]\n",
      " ...\n",
      " ['Mahe' 'Puducherry' 0.06675218008438255 106153.0]\n",
      " ['Lanka' 'Assam' 0.6275556340756849 24720.0]\n",
      " ['Rudauli' 'Uttar Pradesh' 0.31338326279829554 3104060.0]]\n"
     ]
    }
   ],
   "source": [
    "print(x1)"
   ]
  },
  {
   "cell_type": "code",
   "execution_count": 6,
   "metadata": {},
   "outputs": [],
   "source": [
    "y = y.reshape(len(y),1)\n"
   ]
  },
  {
   "cell_type": "code",
   "execution_count": 7,
   "metadata": {},
   "outputs": [],
   "source": [
    "from sklearn.impute import SimpleImputer\n",
    "imputer1 = SimpleImputer(missing_values=np.nan, strategy='mean')\n",
    "imputer1.fit(x1[:, 2:4])\n",
    "x1[:, 2:4] = imputer1.transform(x1[:, 2:4])"
   ]
  },
  {
   "cell_type": "code",
   "execution_count": 8,
   "metadata": {},
   "outputs": [
    {
     "name": "stdout",
     "output_type": "stream",
     "text": [
      "[['Mumbai' 'Maharashtra' 0.7004395374251806 4408916.0]\n",
      " ['Delhi' 'Delhi' 0.9200182321815967 2379169.0]\n",
      " ['Bangalore' 'Karnataka' 0.09708525131204238 636502.0]\n",
      " ...\n",
      " ['Mahe' 'Puducherry' 0.06675218008438255 106153.0]\n",
      " ['Lanka' 'Assam' 0.6275556340756849 24720.0]\n",
      " ['Rudauli' 'Uttar Pradesh' 0.31338326279829554 3104060.0]]\n"
     ]
    }
   ],
   "source": [
    "print(x1)\n"
   ]
  },
  {
   "cell_type": "code",
   "execution_count": 9,
   "metadata": {},
   "outputs": [],
   "source": [
    "imputer2 = SimpleImputer(missing_values=np.nan, strategy='mean')\n",
    "imputer2.fit(x2[:, 2:4])\n",
    "x2[:, 2:4] = imputer2.transform(x2[:, 2:4])"
   ]
  },
  {
   "cell_type": "code",
   "execution_count": 10,
   "metadata": {},
   "outputs": [
    {
     "name": "stdout",
     "output_type": "stream",
     "text": [
      "[['Tuensang' 'Nagaland' 0.25339010990797806 2769.0]\n",
      " ['Lakshmeshwar' 'Karnataka' 0.1925548935336575 636502.0]\n",
      " ['Zira' 'Punjab' 0.8878816363537942 242367.0]\n",
      " ...\n",
      " ['Kedarnath' 'Uttarakhand' 0.7232532805565187 105882.0]\n",
      " ['Gangotri' 'Uttarakhand' 0.42106070874521906 105882.0]\n",
      " ['Kumarganj' 'Uttar Pradesh' 0.15437496778628979 3104060.0]]\n"
     ]
    }
   ],
   "source": [
    "print(x2)"
   ]
  },
  {
   "cell_type": "code",
   "execution_count": 11,
   "metadata": {},
   "outputs": [
    {
     "name": "stdout",
     "output_type": "stream",
     "text": [
      "Shape x1 is: (787, 4)\n",
      "Shape x2 is: (501, 4)\n",
      "Shape y is: (787, 1)\n"
     ]
    }
   ],
   "source": [
    "print('Shape x1 is: {}'.format(x1.shape))\n",
    "print('Shape x2 is: {}'.format(x2.shape))\n",
    "print('Shape y is: {}'.format(y.shape))"
   ]
  },
  {
   "cell_type": "code",
   "execution_count": 12,
   "metadata": {},
   "outputs": [],
   "source": [
    "from sklearn.preprocessing import LabelEncoder\n",
    "labelencoder = LabelEncoder()\n",
    "x1[:, 0] = labelencoder.fit_transform(x1[:, 0])\n",
    "x1[:, 1] = labelencoder.fit_transform(x1[:, 1])"
   ]
  },
  {
   "cell_type": "code",
   "execution_count": 13,
   "metadata": {},
   "outputs": [],
   "source": [
    "labelencoder = LabelEncoder()\n",
    "x2[:, 0] = labelencoder.fit_transform(x2[:, 0])\n",
    "x2[:, 1] = labelencoder.fit_transform(x2[:, 1])"
   ]
  },
  {
   "cell_type": "code",
   "execution_count": 14,
   "metadata": {},
   "outputs": [
    {
     "name": "stdout",
     "output_type": "stream",
     "text": [
      "[[378 16 0.7004395374251806 4408916.0]\n",
      " [135 6 0.9200182321815967 2379169.0]\n",
      " [52 13 0.09708525131204238 636502.0]\n",
      " ...\n",
      " [328 22 0.06675218008438255 106153.0]\n",
      " [309 2 0.6275556340756849 24720.0]\n",
      " [552 30 0.31338326279829554 3104060.0]]\n"
     ]
    }
   ],
   "source": [
    "print(x1)"
   ]
  },
  {
   "cell_type": "code",
   "execution_count": 15,
   "metadata": {},
   "outputs": [
    {
     "name": "stdout",
     "output_type": "stream",
     "text": [
      "[[450 19 0.25339010990797806 2769.0]\n",
      " [69 12 0.1925548935336575 636502.0]\n",
      " [495 21 0.8878816363537942 242367.0]\n",
      " ...\n",
      " [55 27 0.7232532805565187 105882.0]\n",
      " [42 27 0.42106070874521906 105882.0]\n",
      " [63 26 0.15437496778628979 3104060.0]]\n"
     ]
    }
   ],
   "source": [
    "print(x2)"
   ]
  },
  {
   "cell_type": "code",
   "execution_count": 16,
   "metadata": {},
   "outputs": [
    {
     "name": "stdout",
     "output_type": "stream",
     "text": [
      "Shape x1 is: (787, 4)\n",
      "Shape x2 is: (501, 4)\n",
      "Shape y is: (787, 1)\n"
     ]
    }
   ],
   "source": [
    "print('Shape x1 is: {}'.format(x1.shape))\n",
    "print('Shape x2 is: {}'.format(x2.shape))\n",
    "print('Shape y is: {}'.format(y.shape))"
   ]
  },
  {
   "cell_type": "code",
   "execution_count": 17,
   "metadata": {},
   "outputs": [
    {
     "data": {
      "text/plain": [
       "LinearRegression()"
      ]
     },
     "execution_count": 17,
     "metadata": {},
     "output_type": "execute_result"
    }
   ],
   "source": [
    "from sklearn.linear_model import LinearRegression\n",
    "regressor = LinearRegression()\n",
    "regressor.fit(x1, y)"
   ]
  },
  {
   "cell_type": "code",
   "execution_count": 18,
   "metadata": {},
   "outputs": [],
   "source": [
    "y_pred = regressor.predict(x2)"
   ]
  },
  {
   "cell_type": "code",
   "execution_count": 23,
   "metadata": {},
   "outputs": [
    {
     "name": "stdout",
     "output_type": "stream",
     "text": [
      "501\n",
      "501\n",
      "[[2966.536921726841 450]\n",
      " [7657.536725500818 69]\n",
      " [2653.390101456491 495]\n",
      " ...\n",
      " [4853.521950400289 55]\n",
      " [5087.201781551377 42]\n",
      " [11470.582109244826 63]]\n"
     ]
    }
   ],
   "source": [
    "print(len(x2))\n",
    "print(len(y_pred))\n",
    "\n",
    "np.set_printoptions(precision=2)\n",
    "print(np.concatenate((y_pred.reshape(len(y_pred),1), x2[:, :-3]),1)) \n",
    "#printing the predicted results first and then the city repectively."
   ]
  }
 ],
 "metadata": {
  "kernelspec": {
   "display_name": "Python 3",
   "language": "python",
   "name": "python3"
  },
  "language_info": {
   "codemirror_mode": {
    "name": "ipython",
    "version": 3
   },
   "file_extension": ".py",
   "mimetype": "text/x-python",
   "name": "python",
   "nbconvert_exporter": "python",
   "pygments_lexer": "ipython3",
   "version": "3.8.3"
  }
 },
 "nbformat": 4,
 "nbformat_minor": 4
}
